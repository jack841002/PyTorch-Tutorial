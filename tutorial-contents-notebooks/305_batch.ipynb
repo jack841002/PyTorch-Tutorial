{
 "cells": [
  {
   "cell_type": "code",
   "execution_count": 1,
   "metadata": {},
   "outputs": [],
   "source": [
    "import torch\n",
    "import torch.utils.data as Data"
   ]
  },
  {
   "cell_type": "code",
   "execution_count": 9,
   "metadata": {},
   "outputs": [],
   "source": [
    "BATCH_SIZE = 3\n",
    "\n",
    "x = torch.linspace(1,10,10)\n",
    "y = torch.linspace(10,1,10)\n",
    "\n",
    "torch_dataset = Data.TensorDataset(x, y)\n",
    "loader = Data.DataLoader(\n",
    "    dataset = torch_dataset,\n",
    "    batch_size = BATCH_SIZE,\n",
    "    shuffle = True,\n",
    "    num_workers = 2\n",
    ")"
   ]
  },
  {
   "cell_type": "code",
   "execution_count": 10,
   "metadata": {},
   "outputs": [
    {
     "name": "stdout",
     "output_type": "stream",
     "text": [
      "Epoch:  0 | Step:  0 | batch x:  [4. 2. 7.] | batch y:  [7. 9. 4.]\n",
      "Epoch:  0 | Step:  1 | batch x:  [ 9.  6. 10.] | batch y:  [2. 5. 1.]\n",
      "Epoch:  0 | Step:  2 | batch x:  [5. 1. 3.] | batch y:  [ 6. 10.  8.]\n",
      "Epoch:  0 | Step:  3 | batch x:  [8.] | batch y:  [3.]\n",
      "Epoch:  1 | Step:  0 | batch x:  [2. 7. 8.] | batch y:  [9. 4. 3.]\n",
      "Epoch:  1 | Step:  1 | batch x:  [3. 6. 5.] | batch y:  [8. 5. 6.]\n",
      "Epoch:  1 | Step:  2 | batch x:  [ 9. 10.  1.] | batch y:  [ 2.  1. 10.]\n",
      "Epoch:  1 | Step:  3 | batch x:  [4.] | batch y:  [7.]\n",
      "Epoch:  2 | Step:  0 | batch x:  [1. 3. 2.] | batch y:  [10.  8.  9.]\n",
      "Epoch:  2 | Step:  1 | batch x:  [4. 5. 8.] | batch y:  [7. 6. 3.]\n",
      "Epoch:  2 | Step:  2 | batch x:  [6. 7. 9.] | batch y:  [5. 4. 2.]\n",
      "Epoch:  2 | Step:  3 | batch x:  [10.] | batch y:  [1.]\n"
     ]
    }
   ],
   "source": [
    "for epoch in range(3):\n",
    "    for step, (batch_x, batch_y) in enumerate(loader):\n",
    "        #training...\n",
    "        print('Epoch: ', epoch, '| Step: ', step, '| batch x: ', batch_x.numpy(), '| batch y: ', batch_y.numpy())"
   ]
  },
  {
   "cell_type": "code",
   "execution_count": null,
   "metadata": {},
   "outputs": [],
   "source": []
  }
 ],
 "metadata": {
  "kernelspec": {
   "display_name": "Python 3",
   "language": "python",
   "name": "python3"
  },
  "language_info": {
   "codemirror_mode": {
    "name": "ipython",
    "version": 3
   },
   "file_extension": ".py",
   "mimetype": "text/x-python",
   "name": "python",
   "nbconvert_exporter": "python",
   "pygments_lexer": "ipython3",
   "version": "3.7.3"
  }
 },
 "nbformat": 4,
 "nbformat_minor": 2
}
